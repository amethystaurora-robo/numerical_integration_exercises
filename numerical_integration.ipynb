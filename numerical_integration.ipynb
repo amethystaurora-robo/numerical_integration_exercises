{
 "cells": [
  {
   "cell_type": "markdown",
   "id": "16e92334-0e24-48bb-a04e-68f15c757501",
   "metadata": {},
   "source": [
    "Exercises 1-2 of Climate Modelling Slides\n",
    "\n",
    "Exercise 1 is an example\n",
    "Exercise 2 is an independent work"
   ]
  },
  {
   "cell_type": "markdown",
   "id": "ff58b13d-92d7-4afd-8a07-0be505a70134",
   "metadata": {},
   "source": [
    "Exercise 1: Linear Energy Balance Model\n",
    "C(dT/dt) = S0/4(1-ap)-A-BT\n",
    "where C(dT/dt) is the time evolution of the planet, S0/4 is the solar incoming short-wave radiation, a is the albedo, and A and B are the outgoing long-wave radiation\n",
    "\n",
    "C=8.36x10^8 JK^-1m^-2, S0=1360 Wm^-2, αp\n",
    "=0.30, A=-367.58 Wm^-2, B=2.09 Wm^-2K^-1\n",
    "\n",
    "1) what is the equilibrium temperature for the given values of the parameters? What is the relaxation\n",
    "time scale (in years)?\n",
    "2) write a simple code to integrate numerically the equation. Plot time series of the solution starting\n",
    "from different initial conditions;\n",
    "3) repeat 2) for a few different cases changing the equilibrium temperature and/or the relaxation time\n",
    "scale, by tuning the appropriate parameters.\n",
    "4) compute and plot the potential of the model for a few different cases"
   ]
  },
  {
   "cell_type": "markdown",
   "id": "a84277b2-9d32-4fb3-95df-54e7b3c89d10",
   "metadata": {},
   "source": [
    "1) what is the equilibrium temperature for the given values of the parameters? \n",
    "\n",
    "    a) Define the equilibrium temperature:\n",
    "        At equilibrium, the change is 0 so dT/dt = 0\n",
    "        Set everything on the right-hand side to 0, then solve for T to find the equilibrium temperature\n",
    "        \n",
    "        0 = S0/4(1-ap)-A-BT\n",
    "        BT = S0/4(1-ap)-A\n",
    "        T = (S0/4(1-ap)-A)/B\n",
    "\n",
    "    b) Use given parameter values to solve for the equilibrium temperature (code below)"
   ]
  },
  {
   "cell_type": "code",
   "execution_count": null,
   "id": "c9f88afa-1892-4b26-bd10-95124231be45",
   "metadata": {},
   "outputs": [],
   "source": [
    "#heat capacity\n",
    "C=8.36*10**8\n",
    "#incoming short-wave radiation\n",
    "S_zero=1360\n",
    "#albedo\n",
    "Ap=0.30\n",
    "#outgoing long-wave radiation\n",
    "A=-367.58\n",
    "B=2.09\n",
    "\n",
    "#equilibrium temperature equation\n",
    "eq_temp = ((S_zero/4)*(1-Ap)-A)/B\n",
    "print(eq_temp)"
   ]
  },
  {
   "cell_type": "markdown",
   "id": "5cbe1013-92a0-44a2-ab18-53d97b1e071a",
   "metadata": {},
   "source": [
    "1) What is the relaxation time scale (in years)?\n",
    "\n",
    "    a) Define the deviation from the equilibrium:\n",
    "    \n",
    "        delta(T) = T-T0\n",
    "        T=T0 + delta(T)\n",
    "\n",
    "    c) Plug the difference into the original Energy Balance Model:\n",
    "    \n",
    "        C(d(T0+delta(T))/dt) = S0/4(1-ap)-A-B(T0+delta(T))\n",
    "        The derivative of a constant is 0, so d(T0) cancels\n",
    "        C(d(T0+delta(T))/dt) = S0/4(1-ap)-A-B(T0+delta(T))\n",
    "\n",
    "        According to equilibrium temperature S0/4(1-ap)-A-BT = 0, so that also cancels\n",
    "        C(d(delta(T))/dt) = -B(delta(T))\n",
    "\n",
    "        Divide by C to get standard form:\n",
    "        d(delta(T))/dt = -B(delta(T))/C\n",
    "   \n",
    "        Change notation to reflect standards in physics:\n",
    "        B/C = 1/tau0\n",
    "        tau0 = C/B"
   ]
  },
  {
   "cell_type": "code",
   "execution_count": 13,
   "id": "288fdf0f-6b64-4ae6-ad2f-1a69cfc9fbb3",
   "metadata": {},
   "outputs": [
    {
     "name": "stdout",
     "output_type": "stream",
     "text": [
      "12.683916793505835\n"
     ]
    }
   ],
   "source": [
    "#relaxation timescale equation\n",
    "tau_zero_seconds = C/B\n",
    "\n",
    "#convert seconds to years\n",
    "tau_zero = tau_zero_seconds/86400/365\n",
    "print(tau_zero)"
   ]
  },
  {
   "cell_type": "markdown",
   "id": "b6a0f8c7-0241-476c-814c-8e54ffbcdd54",
   "metadata": {},
   "source": [
    "2) write a simple code to integrate numerically the equation. Plot time series of the solution starting\n",
    "from different initial conditions\n",
    "\n",
    "    a) Choose discretisation points for analysis (although time is continuous, choose discrete points on the number line to\n",
    "    form plot of trajectory in time)"
   ]
  }
 ],
 "metadata": {
  "kernelspec": {
   "display_name": "Python 3 (ipykernel)",
   "language": "python",
   "name": "python3"
  },
  "language_info": {
   "codemirror_mode": {
    "name": "ipython",
    "version": 3
   },
   "file_extension": ".py",
   "mimetype": "text/x-python",
   "name": "python",
   "nbconvert_exporter": "python",
   "pygments_lexer": "ipython3",
   "version": "3.9.13"
  }
 },
 "nbformat": 4,
 "nbformat_minor": 5
}
